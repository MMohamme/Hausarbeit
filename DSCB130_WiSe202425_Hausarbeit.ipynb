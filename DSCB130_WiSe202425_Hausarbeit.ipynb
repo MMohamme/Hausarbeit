{
 "cells": [
  {
   "cell_type": "markdown",
   "id": "3c37bcda-ac59-4a5b-b555-253ad908ab41",
   "metadata": {},
   "source": [
    "## Hausarbeit DSCB130 WiSe 202425 (Version vom 14.10.2024, basierend auf 06.05.2024)\n",
    "Mitglieder: *Hier die Namen der Gruppenmitglieder eintragen*\n",
    "- Mohammad Bassam Sallam, samo1019\n"
   ]
  },
  {
   "cell_type": "markdown",
   "id": "93a3b06a",
   "metadata": {},
   "source": [
    "### Motivation\n",
    "In der sich ständig weiterentwickelnden Finanzlandschaft ist das Verständnis und die effektive Verwaltung eines Aktienportfolios für Investoren von entscheidender Bedeutung. In diesem Projekt werdet ihr eine Python-Anwendung entwickeln, mit der ihr den Aktienhandel verfolgen und analysieren könnt. "
   ]
  },
  {
   "cell_type": "markdown",
   "id": "dcef125c-8187-41e4-aa22-fa132181b8af",
   "metadata": {},
   "source": [
    "Das Programm ist in fünf Aufgabenblöcke unterteilt. Für die Implementierung und Präsentation des Aufgabenblocks bekommt ihr die jeweiligen Punkte als Klausurbonus. Damit ihr die Hausarbeit Punkte erhaltet, muss diese den Tutoren präsentiert werden. Für die Präsentation selbst gibt es auch 2 Punkte. Insgesamt könnt ihr durch die Projektarbeit maximal 18 Punkte erhalten."
   ]
  },
  {
   "cell_type": "markdown",
   "id": "6d2b2cff",
   "metadata": {},
   "source": [
    "### Aufgabe 1 (3 Punkte): Aktien-Transaktionen sammeln\n",
    "Der Benutzer soll angeben können welche Aktien er ver-/gekauft hat. Dabei sind folgende Informationen wichtig:\n",
    "- Ticker: Jede Aktie hat einen Ticker, z.B. gehört `TSLA` zu Tesla, Inc. ([Ticker-Übersicht](https://stockanalysis.com/stocks))\n",
    "- Datum der Transaktion: Dies kann z.B. das Format `YYYY-MM-DD` haben.\n",
    "- Anzahl der ver-/gekauften Aktien\n",
    "- Ver-/Kaufspreis der einzelnen Aktie\n",
    "\n",
    "Diese Ver-/Käufe müssen in einer Dateistruktur([container](https://cvw.cac.cornell.edu/python-performance/faster-python/python-containers)) gesammelt werden.\n"
   ]
  },
  {
   "cell_type": "code",
   "execution_count": null,
   "id": "c674e02e-88cb-499a-807b-5328f78e9d0b",
   "metadata": {},
   "outputs": [],
   "source": [
    "from datetime import datetime\n",
    "import pandas # type: ignore\n",
    "import api_functions as market\n",
    "import csv\n",
    "import numpy as np # type: ignore\n",
    "transaction_data = [[\"Aktie\"  ,\"Datum\"  ,\"Menge\", \"Preis\", \"typ\"]]\n",
    "\n",
    " # i.e. list or dict\n",
    "\n",
    "def buy_stock(transaction_data,  stock, date, amount, price):\n",
    "    transaction_data.append([stock ,date, amount, price, \"Gekauft\"])\n",
    "    #return transaction_data\n",
    "\n",
    "def sell_stock(transaction_data,  stock, date, amount, price):\n",
    "    \n",
    "       transaction_data.append([stock ,date, amount, price, \"Verkauft\"])\n",
    "   \n",
    "   # return transaction_data\n",
    "\n",
    "def print_transactions(transaction_data):\n",
    "    #test=transaction_data.sort()\n",
    "    #print(test)\n",
    "    Output = pandas.DataFrame(transaction_data[1:],columns=transaction_data[0])\n",
    "    \n",
    "    #print(Output)\n",
    "\n",
    "\n",
    "print_transactions(transaction_data)"
   ]
  },
  {
   "cell_type": "code",
   "execution_count": null,
   "id": "ea1a11d3",
   "metadata": {},
   "outputs": [],
   "source": [
    "\"\"\"Example use\"\"\"\n",
    "buy_stock(transaction_data, \"AAPL\", \"2023-04-06\", 5, 150)\n",
    "buy_stock(transaction_data, \"TSLA\", \"2023-04-06\", 12, 700)\n",
    "buy_stock(transaction_data, \"MSFT\", \"2023-02-24\", 4, 250)\n",
    "sell_stock(transaction_data, \"AAPL\", \"2023-08-22\", 3, 200)\n",
    "sell_stock(transaction_data, \"TSLA\", \"2023-12-18\", 7, 620)\n",
    "sell_stock(transaction_data, \"MSFT\", \"2024-01-26\", 4, 400)\n",
    "#print_transactions(transaction_data)\n"
   ]
  },
  {
   "cell_type": "markdown",
   "id": "d887a932",
   "metadata": {},
   "source": [
    "### Aufgabe 2 (3 Punkte): Aktien-Transaktionen persistieren\n",
    "Um nicht bei jedem Start des Programms erneut die Transaktionen einpflegen zu müssen, soll der Benutzer die Möglichkeit haben die gesammelten Transaktionen auf der Festplatte zu speichern, sodass sie später (z.B. nach einem Neustart) wieder geladen werden könnnen. \n"
   ]
  },
  {
   "cell_type": "code",
   "execution_count": null,
   "id": "8f72a605",
   "metadata": {},
   "outputs": [],
   "source": [
    "# You probably want to import a package for this, for example json, csv or sqlite\n",
    "\n",
    "def save_data(transaction_data, FILE_PATH):\n",
    "    with open(FILE_PATH,\"a\",newline=\"\",encoding=\"utf-8\") as file:\n",
    "        save = csv.writer(file)\n",
    "        save.writerows(transaction_data)\n",
    "    \n",
    "\n",
    "def load_data(FILE_PATH):\n",
    "   \n",
    "    with open(FILE_PATH,\"r\",encoding=\"utf-8\") as file:\n",
    "        reader = csv.reader(file)\n",
    "        data = list(reader)\n",
    "\n",
    "       # print_transactions(data)\n",
    "        "
   ]
  },
  {
   "cell_type": "code",
   "execution_count": null,
   "id": "0e3d0247",
   "metadata": {},
   "outputs": [],
   "source": [
    "\"\"\"Example use\"\"\"\n",
    "FILE_PATH = r\"C:\\Users\\Bassam Sallam\\Videos\\Hausarbeit\\Data.csv\" # i.e. data.json, data.csv or data.db\n",
    "\n",
    "save_data(transaction_data, FILE_PATH) # a file should be created and the transaction data is saved in it\n",
    "\n",
    "loaded_transaction_data = load_data(FILE_PATH) # the variable should then contain the data from the file\n"
   ]
  },
  {
   "cell_type": "markdown",
   "id": "d98b9e72",
   "metadata": {},
   "source": [
    "### Aufgabe 3 (4 Punkte):\n",
    "Der Benutzer soll eine Analyse über die Aktien in seinem Portfolio erhalten.\n",
    "Dazu sollte die Funktion `get_current_price` in `api_functions.py` genutzt werden. \n",
    "Das Python-Package `yfinance` muss installiert sein."
   ]
  },
  {
   "cell_type": "code",
   "execution_count": null,
   "id": "d08bca66-c777-4dcd-82c6-8964b83084ba",
   "metadata": {},
   "outputs": [],
   "source": [
    "def print_stock_analysis(transaction_data, aktie):\n",
    "    Aktuell_Preis = market.get_current_price(aktie)\n",
    "    filtered_data = [row for row in transaction_data if aktie in row]\n",
    "    menge = 0\n",
    "    Gekaufte_preis = 0\n",
    "    Verkaufte_Preis = 0\n",
    "    Verkaufte_menge = 0\n",
    "    Realized = 0\n",
    "   \n",
    "    for row in filtered_data:\n",
    "       # print(row)\n",
    "        if \"Gekauft\" in row:\n",
    "\n",
    "           menge = menge + row[2] # Zahlen alle gekauften der X Aktie\n",
    "           Gekaufte_preis = row[3]\n",
    "           \n",
    "        if \"Verkauft\" in row:\n",
    "            menge  = menge - row[2]\n",
    "            Verkaufte_menge = row[2]\n",
    "            Verkaufte_Preis = row[3]\n",
    "            Realized = (Verkaufte_Preis - Gekaufte_preis) * Verkaufte_menge\n",
    "    Unrealized = (Aktuell_Preis - Gekaufte_preis) * menge\n",
    "    \n",
    "    #print(menge,Aktuell_Preis, Aktuell_Preis * menge, Realized, Unrealized)\n",
    "    print(f\"\"\"Stock:{aktie}\\n \n",
    "          - Current Holding: {menge} shares\\n \n",
    "          - Current Price:${Aktuell_Preis}\\n \n",
    "          - Current Value:${Aktuell_Preis * menge}\\n\n",
    "          - Realized Profit/Loss:${Realized}\\n \n",
    "          - Unrealized Profit/Loss:${Unrealized}\\n \"\"\")\n",
    "#print_stock_analysis(transaction_data, \"AAPL\")\n",
    "\n",
    "def print_portfolio_analysis(transaction_data):\n",
    "    for row in transaction_data:\n",
    "\n",
    "        if \"Gekauft\" in row:\n",
    "            print_stock_analysis(transaction_data,row[0])\n",
    "#print_portfolio_analysis(transaction_data)"
   ]
  },
  {
   "cell_type": "code",
   "execution_count": null,
   "id": "86f381d8",
   "metadata": {},
   "outputs": [],
   "source": [
    "#print_stock_analysis(transaction_data, \"AAPL\")\n",
    "\"\"\" EXAMPLE OUTPUT\n",
    "Stock: AAPL\n",
    "  - Current Holding: 2 shares\n",
    "  - Current Price: $169.58\n",
    "  - Current Value: $339.16 \n",
    "  - Realized Profit/Loss: $150.00  \n",
    "  - Unrealized Profit/Loss: $39.16\n",
    "\"\"\"\n",
    "\n",
    "#print_portfolio_analysis(transaction_data)\n",
    "\n",
    "\n"
   ]
  },
  {
   "cell_type": "markdown",
   "id": "7b873a8e",
   "metadata": {},
   "source": [
    "### Aufgabe 4 (3 Punkte):\n",
    "Die Nutzer möchten gerne wissen, wie sich der Kurs einer Aktie in der letzten Zeit entwickelt hat. Dazu sollte die Funktion `get_history` in `api_functions.py` genutzt werden. \n",
    "Die Ausgabe soll folgende Informationen beinhalten:\n",
    "- Letzter Aktienkurs\n",
    "- Durchschnitt und Standardabweichung der Preisschwankungen (Differenz High/Low) über die letzte Zeit (Tipp: `numpy`-Funtionen [average()](https://numpy.org/doc/stable/reference/generated/numpy.average.html) und [std()](https://numpy.org/doc/stable/reference/generated/numpy.std.html))\n",
    "- Vergleich der Performance mit 'DAX' für sieben, 21 und 100 Tage, sowie ein Jahr in Prozent"
   ]
  },
  {
   "cell_type": "code",
   "execution_count": null,
   "id": "cc59d71b-5206-450b-bb0b-252cdae8f7b6",
   "metadata": {},
   "outputs": [],
   "source": [
    "\n",
    "def print_stock_information(stock, history):\n",
    "   doku = market.get_history(stock, history)\n",
    "   data_high_low = []\n",
    "   sorted_keys = sorted(doku.keys())\n",
    "   last_Price = doku[sorted_keys[ - 1]][\"Close\"]\n",
    "\n",
    "   for x in sorted_keys:    \n",
    "      data_high_low.append(doku[x][\"High\"] - doku[x][\"Low\"])\n",
    "   \n",
    "   avg_fluctuation = np.average(data_high_low)\n",
    "   std_fluctuation = np.std(data_high_low)\n",
    "   print(f\"\"\" \n",
    "   Infromation about {stock}\n",
    "   Last Stock Price: ${last_Price: .2f}\n",
    "   Average Price Fluctuations: ${avg_fluctuation:.2f}\n",
    "   Standard Deviation of Price Fluctuations:${std_fluctuation: .2f}\"\"\")\n",
    "\n",
    "\n",
    "   Vergleich_performance = [7, 21, 100, 0 ]\n",
    "   doku = market.get_history(stock, \"1y\")\n",
    "   dax = market.get_history(\"DAX\", \"1y\")\n",
    "   sorted_keys = sorted(doku.keys())\n",
    "   sorted_keys_dax = sorted(dax.keys())\n",
    "\n",
    "   for index in Vergleich_performance:\n",
    "      #stock_return_xd = (Schlusskurs heute - Schlusskurs vor x Tagen) / Schlusskurs vor x Tagen * 100\n",
    "      Aktienrendite = (doku[sorted_keys[ - 1]][\"Close\"] - doku[sorted_keys[-index]][\"Close\"]) /  doku[sorted_keys[-index]][\"Close\"] * 100\n",
    "      ##Dax_return_xd = (Schlusskurs heute - Schlusskurs vor x Tagen) / Schlusskurs vor x Tagen * 100\n",
    "      Dexrendite = (dax[sorted_keys_dax[ - 1]][\"Close\"] - dax[sorted_keys_dax[-index]][\"Close\"]) /  dax[sorted_keys_dax[-index]][\"Close\"] * 100\n",
    "\n",
    "      Performance = Aktienrendite - Dexrendite\n",
    "      if index == 0:\n",
    "         print(f\"   Performance Compared To DAX (1 year): {Performance:.2f}%\")\n",
    "      else:\n",
    "         print(f\"   Performance Compared To DAX ({index}): {Performance:.2f}%\")\n",
    " \n",
    "   \n",
    "print_stock_information(\"TSLA\", \"1y\")"
   ]
  },
  {
   "cell_type": "code",
   "execution_count": null,
   "id": "0ad06780",
   "metadata": {},
   "outputs": [],
   "source": [
    "#print_stock_information(\"AAPL\", \"1y\")\n",
    "\"\"\" EXAMPLE OUTPUT\n",
    "Infromation about AAPL\n",
    "Last Stock Price: $172.21\n",
    "Average Price Fluctuations: $2.83\n",
    "Standard Deviation of Price Fluctuations: $1.12\n",
    "Performance Compared To DAX(7 days): -1.03%\n",
    "Performance Compared To DAX(21 days): 2.84%\n",
    "Performance Compared To DAX(100 days): 6.09%\n",
    "Performance Compared To DAX(1 year): 20.76%\n",
    "\"\"\""
   ]
  },
  {
   "cell_type": "markdown",
   "id": "1065f6c6",
   "metadata": {},
   "source": [
    "### Aufgabe 5 (3 Punkte):\n",
    "Um Personen ohne technisches Verständnis die Nutzung des Programms zu ermöglichen, sollten diese die Möglickeit haben alle bisher implementierten Funktionen über das Terminal auszuführen (Command line interface)."
   ]
  },
  {
   "cell_type": "code",
   "execution_count": null,
   "id": "e1af9ddd-d63c-4e47-befb-8427dba5f359",
   "metadata": {},
   "outputs": [],
   "source": [
    "def run_command_line_interface():\n",
    "    pass # TODO: runs an CLI-Tool"
   ]
  },
  {
   "cell_type": "markdown",
   "id": "70db12f7",
   "metadata": {},
   "source": [
    "Im folgenden sind ein paar Beispiel-Interaktionen dargestellt. Benutzereingaben sind *kursiv* geschrieben<br> Ein- und Ausgaben können frei gestaltet werden.<br>\n",
    "<br>\n",
    "**Start**<br>\n",
    "Wähle eine Operation:<br>\n",
    "1: Aktie kaufen<br>\n",
    "2: Aktie verkaufen<br>\n",
    "3: Transaktionen ausgeben<br>\n",
    "4: Speicher Daten<br>\n",
    "5: Lade Daten<br>\n",
    "6: Aktienanalyse<br>\n",
    "7: Portfolioanalyse<br>\n",
    "8: Aktieninformationen ausgeben<br>\n",
    "9: Programm beenden<br>\n",
    "<br>\n",
    "**Operation \"Aktie kaufen\"**<br>\n",
    "*1*<br>\n",
    "Welche Aktie soll gekauft werden? Ticker:<br>\n",
    "*AAPL*<br>\n",
    "Wann wurde die Aktie gekauft?<br>\n",
    "*2023-04-06*<br>\n",
    "Wie viele Aktien würden gekauft?<br>\n",
    "*5*<br>\n",
    "Zu welchem Preis wurde die Aktie gekauft?<br>\n",
    "*150*<br>\n",
    "Der Kauf wurde hinzugefügt.<br>\n",
    "[wieder zurück zum Start...]<br>\n",
    "<br>\n",
    "**Operation \"Lade Daten\"**<br>\n",
    "*5*<br>\n",
    "Wie lautet der Dateipfad?<br>\n",
    "*data.json*<br>\n",
    "Daten wurden geladen.<br>\n",
    "[wieder zurück zum Start...]<br>"
   ]
  }
 ],
 "metadata": {
  "kernelspec": {
   "display_name": "Python 3",
   "language": "python",
   "name": "python3"
  },
  "language_info": {
   "codemirror_mode": {
    "name": "ipython",
    "version": 3
   },
   "file_extension": ".py",
   "mimetype": "text/x-python",
   "name": "python",
   "nbconvert_exporter": "python",
   "pygments_lexer": "ipython3",
   "version": "3.12.1"
  }
 },
 "nbformat": 4,
 "nbformat_minor": 5
}
